{
 "cells": [
  {
   "cell_type": "markdown",
   "metadata": {},
   "source": [
    "# Gapminder dataset - understanding the indicators of growth among countries/regions\n",
    "\n",
    "## Table of Contents\n",
    "<ul>\n",
    "<li><a href=\"#intro\">Introduction</a></li>\n",
    "<li><a href=\"#wrangling\">Data Wrangling</a></li>\n",
    "<li><a href=\"#eda\">Exploratory Data Analysis (EDA)</a></li>\n",
    "<li><a href=\"#conclusions\">Conclusions</a></li>\n",
    "</ul>"
   ]
  },
  {
   "cell_type": "markdown",
   "metadata": {},
   "source": [
    "<a id='intro'></a>\n",
    "## Introduction\n",
    "\n",
    "Gapminder has collected a lot of information about how people live their lives in different countries, tracked across the years, and on various indicators, particular on living standards and economic development.\n",
    "\n",
    "The data provided comes under Excel spreadsheet files, to which I plan to export each table as a CSV file. As of `27/06/19`, the data downloaded from the __[Gapminder database](https://www.gapminder.org/data/)__  were the latest produced in the 'list of indicators in Gapminder tools (data currently used)'.\n",
    "\n",
    "Given that I have to query these tables altogether across countries, I need to make sure the dataset is tidy via the process of data merging, manipulation and reshaping (data wrangling/cleaning) process before I can continue with the exploratory data analysis (EDA) phase. \n",
    "The columns should look something like this: \n",
    "\n",
    " Country | Year | Indicator 1  | indicator 2  | indicator 3  |  indicator 4 |\n",
    "---|---|---|---|---|---|\n",
    "\n",
    "The questions I intend on exploring throughout the report revolve around:\n",
    "\n",
    "1. Have certain regions of the world been growing better than others? \n",
    "2. Are there trends that can be observed between the selected metrics?\n",
    "\n",
    "My case studies focus on *Brazil, China and India* as part of the `BRIC economies`, a club of emerging economies experiencing rapid growth over the last few decades, dissecting metrics to  understand the gains in economic development.\n",
    "Moreover, the **dependent variable** I have chosen is:\n",
    "* GDP/income per capita (income pc), which is a measure of living standards. \n",
    "\n",
    "I have picked **three independent variables**:\n",
    "- Life expectancy\n",
    "- Exports (% of GDP)\n",
    "- Investment rates (% of GDP)\n",
    "\n",
    "I aim to find some links between an increase in any of these independent variables being linked with a corresponding increase in income pc."
   ]
  },
  {
   "cell_type": "code",
   "execution_count": 137,
   "metadata": {},
   "outputs": [],
   "source": [
    "# Import relevant packages for data analysis\n",
    "\n",
    "import numpy as np\n",
    "import pandas as pd \n",
    "import matplotlib.pyplot as plt\n",
    "import seaborn as sns\n",
    "sns.set() # Changing the default grid to sns sytle\n",
    "%matplotlib inline"
   ]
  },
  {
   "cell_type": "markdown",
   "metadata": {},
   "source": [
    "<a id='wrangling'></a>\n",
    "## Data Wrangling\n",
    "\n",
    "\n",
    "### General Properties"
   ]
  },
  {
   "cell_type": "code",
   "execution_count": 138,
   "metadata": {},
   "outputs": [],
   "source": [
    "# Load data and print out a few lines. Perform operations to inspect data\n",
    "#   types and look for instances of missing or possibly errant data.\n",
    "\n",
    "df_income = pd.read_csv('income_per_person_gdppercapita_ppp_inflation_adjusted.csv')\n",
    "df_export = pd.read_csv('exports_percent_of_gdp (1).csv')\n",
    "df_inv = pd.read_csv('investments_percent_of_gdp.csv')\n",
    "df_life = pd.read_csv('life_expectancy_years.csv')"
   ]
  },
  {
   "cell_type": "markdown",
   "metadata": {},
   "source": [
    "Given the various indicators/observations available across countries, it's essential to notice the common years altogether for each indicator for when the datasets will be merged at the data cleaning stage."
   ]
  },
  {
   "cell_type": "code",
   "execution_count": 139,
   "metadata": {},
   "outputs": [
    {
     "data": {
      "text/html": [
       "<div>\n",
       "<style scoped>\n",
       "    .dataframe tbody tr th:only-of-type {\n",
       "        vertical-align: middle;\n",
       "    }\n",
       "\n",
       "    .dataframe tbody tr th {\n",
       "        vertical-align: top;\n",
       "    }\n",
       "\n",
       "    .dataframe thead th {\n",
       "        text-align: right;\n",
       "    }\n",
       "</style>\n",
       "<table border=\"1\" class=\"dataframe\">\n",
       "  <thead>\n",
       "    <tr style=\"text-align: right;\">\n",
       "      <th></th>\n",
       "      <th>country</th>\n",
       "      <th>1800</th>\n",
       "      <th>1801</th>\n",
       "      <th>1802</th>\n",
       "      <th>1803</th>\n",
       "      <th>1804</th>\n",
       "      <th>1805</th>\n",
       "      <th>1806</th>\n",
       "      <th>1807</th>\n",
       "      <th>1808</th>\n",
       "      <th>...</th>\n",
       "      <th>2031</th>\n",
       "      <th>2032</th>\n",
       "      <th>2033</th>\n",
       "      <th>2034</th>\n",
       "      <th>2035</th>\n",
       "      <th>2036</th>\n",
       "      <th>2037</th>\n",
       "      <th>2038</th>\n",
       "      <th>2039</th>\n",
       "      <th>2040</th>\n",
       "    </tr>\n",
       "  </thead>\n",
       "  <tbody>\n",
       "    <tr>\n",
       "      <th>0</th>\n",
       "      <td>Afghanistan</td>\n",
       "      <td>603</td>\n",
       "      <td>603</td>\n",
       "      <td>603</td>\n",
       "      <td>603</td>\n",
       "      <td>603</td>\n",
       "      <td>603</td>\n",
       "      <td>603</td>\n",
       "      <td>603</td>\n",
       "      <td>603</td>\n",
       "      <td>...</td>\n",
       "      <td>2420</td>\n",
       "      <td>2470</td>\n",
       "      <td>2520</td>\n",
       "      <td>2580</td>\n",
       "      <td>2640</td>\n",
       "      <td>2700</td>\n",
       "      <td>2760</td>\n",
       "      <td>2820</td>\n",
       "      <td>2880</td>\n",
       "      <td>2940</td>\n",
       "    </tr>\n",
       "  </tbody>\n",
       "</table>\n",
       "<p>1 rows × 242 columns</p>\n",
       "</div>"
      ],
      "text/plain": [
       "       country  1800  1801  1802  1803  1804  1805  1806  1807  1808  ...   \\\n",
       "0  Afghanistan   603   603   603   603   603   603   603   603   603  ...    \n",
       "\n",
       "   2031  2032  2033  2034  2035  2036  2037  2038  2039  2040  \n",
       "0  2420  2470  2520  2580  2640  2700  2760  2820  2880  2940  \n",
       "\n",
       "[1 rows x 242 columns]"
      ]
     },
     "execution_count": 139,
     "metadata": {},
     "output_type": "execute_result"
    }
   ],
   "source": [
    "# First datset runs from 1800 to 2040\n",
    "df_income.head(1)"
   ]
  },
  {
   "cell_type": "code",
   "execution_count": 140,
   "metadata": {},
   "outputs": [
    {
     "data": {
      "text/html": [
       "<div>\n",
       "<style scoped>\n",
       "    .dataframe tbody tr th:only-of-type {\n",
       "        vertical-align: middle;\n",
       "    }\n",
       "\n",
       "    .dataframe tbody tr th {\n",
       "        vertical-align: top;\n",
       "    }\n",
       "\n",
       "    .dataframe thead th {\n",
       "        text-align: right;\n",
       "    }\n",
       "</style>\n",
       "<table border=\"1\" class=\"dataframe\">\n",
       "  <thead>\n",
       "    <tr style=\"text-align: right;\">\n",
       "      <th></th>\n",
       "      <th>country</th>\n",
       "      <th>1800</th>\n",
       "      <th>1801</th>\n",
       "      <th>1802</th>\n",
       "      <th>1803</th>\n",
       "      <th>1804</th>\n",
       "      <th>1805</th>\n",
       "      <th>1806</th>\n",
       "      <th>1807</th>\n",
       "      <th>1808</th>\n",
       "      <th>...</th>\n",
       "      <th>2009</th>\n",
       "      <th>2010</th>\n",
       "      <th>2011</th>\n",
       "      <th>2012</th>\n",
       "      <th>2013</th>\n",
       "      <th>2014</th>\n",
       "      <th>2015</th>\n",
       "      <th>2016</th>\n",
       "      <th>2017</th>\n",
       "      <th>2018</th>\n",
       "    </tr>\n",
       "  </thead>\n",
       "  <tbody>\n",
       "    <tr>\n",
       "      <th>0</th>\n",
       "      <td>Afghanistan</td>\n",
       "      <td>28.2</td>\n",
       "      <td>28.2</td>\n",
       "      <td>28.2</td>\n",
       "      <td>28.2</td>\n",
       "      <td>28.2</td>\n",
       "      <td>28.2</td>\n",
       "      <td>28.1</td>\n",
       "      <td>28.1</td>\n",
       "      <td>28.1</td>\n",
       "      <td>...</td>\n",
       "      <td>55.7</td>\n",
       "      <td>56.2</td>\n",
       "      <td>56.7</td>\n",
       "      <td>57.2</td>\n",
       "      <td>57.7</td>\n",
       "      <td>57.8</td>\n",
       "      <td>57.9</td>\n",
       "      <td>58.0</td>\n",
       "      <td>58.4</td>\n",
       "      <td>58.7</td>\n",
       "    </tr>\n",
       "  </tbody>\n",
       "</table>\n",
       "<p>1 rows × 220 columns</p>\n",
       "</div>"
      ],
      "text/plain": [
       "       country  1800  1801  1802  1803  1804  1805  1806  1807  1808  ...   \\\n",
       "0  Afghanistan  28.2  28.2  28.2  28.2  28.2  28.2  28.1  28.1  28.1  ...    \n",
       "\n",
       "   2009  2010  2011  2012  2013  2014  2015  2016  2017  2018  \n",
       "0  55.7  56.2  56.7  57.2  57.7  57.8  57.9  58.0  58.4  58.7  \n",
       "\n",
       "[1 rows x 220 columns]"
      ]
     },
     "execution_count": 140,
     "metadata": {},
     "output_type": "execute_result"
    }
   ],
   "source": [
    "# Second dataset runs from 1800 to 2018\n",
    "df_life.head(1)"
   ]
  },
  {
   "cell_type": "code",
   "execution_count": 141,
   "metadata": {},
   "outputs": [
    {
     "data": {
      "text/html": [
       "<div>\n",
       "<style scoped>\n",
       "    .dataframe tbody tr th:only-of-type {\n",
       "        vertical-align: middle;\n",
       "    }\n",
       "\n",
       "    .dataframe tbody tr th {\n",
       "        vertical-align: top;\n",
       "    }\n",
       "\n",
       "    .dataframe thead th {\n",
       "        text-align: right;\n",
       "    }\n",
       "</style>\n",
       "<table border=\"1\" class=\"dataframe\">\n",
       "  <thead>\n",
       "    <tr style=\"text-align: right;\">\n",
       "      <th></th>\n",
       "      <th>country</th>\n",
       "      <th>1960</th>\n",
       "      <th>1961</th>\n",
       "      <th>1962</th>\n",
       "      <th>1963</th>\n",
       "      <th>1964</th>\n",
       "      <th>1965</th>\n",
       "      <th>1966</th>\n",
       "      <th>1967</th>\n",
       "      <th>1968</th>\n",
       "      <th>...</th>\n",
       "      <th>2008</th>\n",
       "      <th>2009</th>\n",
       "      <th>2010</th>\n",
       "      <th>2011</th>\n",
       "      <th>2012</th>\n",
       "      <th>2013</th>\n",
       "      <th>2014</th>\n",
       "      <th>2015</th>\n",
       "      <th>2016</th>\n",
       "      <th>2017</th>\n",
       "    </tr>\n",
       "  </thead>\n",
       "  <tbody>\n",
       "    <tr>\n",
       "      <th>0</th>\n",
       "      <td>Afghanistan</td>\n",
       "      <td>4.13</td>\n",
       "      <td>4.45</td>\n",
       "      <td>4.88</td>\n",
       "      <td>9.17</td>\n",
       "      <td>8.89</td>\n",
       "      <td>11.3</td>\n",
       "      <td>8.57</td>\n",
       "      <td>6.77</td>\n",
       "      <td>8.9</td>\n",
       "      <td>...</td>\n",
       "      <td>18.0</td>\n",
       "      <td>14.7</td>\n",
       "      <td>10.0</td>\n",
       "      <td>6.11</td>\n",
       "      <td>5.52</td>\n",
       "      <td>6.31</td>\n",
       "      <td>6.57</td>\n",
       "      <td>7.0</td>\n",
       "      <td>6.9</td>\n",
       "      <td>NaN</td>\n",
       "    </tr>\n",
       "  </tbody>\n",
       "</table>\n",
       "<p>1 rows × 59 columns</p>\n",
       "</div>"
      ],
      "text/plain": [
       "       country  1960  1961  1962  1963  1964  1965  1966  1967  1968  ...   \\\n",
       "0  Afghanistan  4.13  4.45  4.88  9.17  8.89  11.3  8.57  6.77   8.9  ...    \n",
       "\n",
       "   2008  2009  2010  2011  2012  2013  2014  2015  2016  2017  \n",
       "0  18.0  14.7  10.0  6.11  5.52  6.31  6.57   7.0   6.9   NaN  \n",
       "\n",
       "[1 rows x 59 columns]"
      ]
     },
     "execution_count": 141,
     "metadata": {},
     "output_type": "execute_result"
    }
   ],
   "source": [
    "# Last 2 datsets run from 1960 to 2017\n",
    "df_export.head(1)"
   ]
  },
  {
   "cell_type": "code",
   "execution_count": 142,
   "metadata": {},
   "outputs": [
    {
     "data": {
      "text/html": [
       "<div>\n",
       "<style scoped>\n",
       "    .dataframe tbody tr th:only-of-type {\n",
       "        vertical-align: middle;\n",
       "    }\n",
       "\n",
       "    .dataframe tbody tr th {\n",
       "        vertical-align: top;\n",
       "    }\n",
       "\n",
       "    .dataframe thead th {\n",
       "        text-align: right;\n",
       "    }\n",
       "</style>\n",
       "<table border=\"1\" class=\"dataframe\">\n",
       "  <thead>\n",
       "    <tr style=\"text-align: right;\">\n",
       "      <th></th>\n",
       "      <th>country</th>\n",
       "      <th>1960</th>\n",
       "      <th>1961</th>\n",
       "      <th>1962</th>\n",
       "      <th>1963</th>\n",
       "      <th>1964</th>\n",
       "      <th>1965</th>\n",
       "      <th>1966</th>\n",
       "      <th>1967</th>\n",
       "      <th>1968</th>\n",
       "      <th>...</th>\n",
       "      <th>2008</th>\n",
       "      <th>2009</th>\n",
       "      <th>2010</th>\n",
       "      <th>2011</th>\n",
       "      <th>2012</th>\n",
       "      <th>2013</th>\n",
       "      <th>2014</th>\n",
       "      <th>2015</th>\n",
       "      <th>2016</th>\n",
       "      <th>2017</th>\n",
       "    </tr>\n",
       "  </thead>\n",
       "  <tbody>\n",
       "    <tr>\n",
       "      <th>0</th>\n",
       "      <td>Afghanistan</td>\n",
       "      <td>16.1</td>\n",
       "      <td>16.6</td>\n",
       "      <td>19.1</td>\n",
       "      <td>14.2</td>\n",
       "      <td>13.9</td>\n",
       "      <td>11.3</td>\n",
       "      <td>8.41</td>\n",
       "      <td>5.18</td>\n",
       "      <td>6.47</td>\n",
       "      <td>...</td>\n",
       "      <td>18.9</td>\n",
       "      <td>17.9</td>\n",
       "      <td>17.9</td>\n",
       "      <td>16.6</td>\n",
       "      <td>16.8</td>\n",
       "      <td>17.2</td>\n",
       "      <td>18.1</td>\n",
       "      <td>19.4</td>\n",
       "      <td>17.7</td>\n",
       "      <td>NaN</td>\n",
       "    </tr>\n",
       "  </tbody>\n",
       "</table>\n",
       "<p>1 rows × 59 columns</p>\n",
       "</div>"
      ],
      "text/plain": [
       "       country  1960  1961  1962  1963  1964  1965  1966  1967  1968  ...   \\\n",
       "0  Afghanistan  16.1  16.6  19.1  14.2  13.9  11.3  8.41  5.18  6.47  ...    \n",
       "\n",
       "   2008  2009  2010  2011  2012  2013  2014  2015  2016  2017  \n",
       "0  18.9  17.9  17.9  16.6  16.8  17.2  18.1  19.4  17.7   NaN  \n",
       "\n",
       "[1 rows x 59 columns]"
      ]
     },
     "execution_count": 142,
     "metadata": {},
     "output_type": "execute_result"
    }
   ],
   "source": [
    "df_inv.head(1)"
   ]
  },
  {
   "cell_type": "code",
   "execution_count": 143,
   "metadata": {},
   "outputs": [
    {
     "data": {
      "text/plain": [
       "((193, 242), (185, 59), (177, 59), (187, 220))"
      ]
     },
     "execution_count": 143,
     "metadata": {},
     "output_type": "execute_result"
    }
   ],
   "source": [
    "# Detecting any overlap/match between variable across datasets/years\n",
    "\n",
    "df_income.shape, df_export.shape, df_inv.shape, df_life.shape"
   ]
  },
  {
   "cell_type": "markdown",
   "metadata": {},
   "source": [
    "Hence, it is clear now that once further data cleaning is done, a combined dataset of these variables will run from a sample of years between 1960-2017 (columns).\n",
    "\n",
    "The data also needs to be in a **`long (panel/longitudinal) format`** to perform deeper analysis, querying and comparisons across countries that facilitates the EDA process."
   ]
  },
  {
   "cell_type": "code",
   "execution_count": 251,
   "metadata": {},
   "outputs": [
    {
     "name": "stderr",
     "output_type": "stream",
     "text": [
      "'c' argument looks like a single numeric RGB or RGBA sequence, which should be avoided as value-mapping will have precedence in case its length matches with 'x' & 'y'.  Please use a 2-D array with a single row if you really want to specify the same RGB or RGBA value for all points.\n",
      "'c' argument looks like a single numeric RGB or RGBA sequence, which should be avoided as value-mapping will have precedence in case its length matches with 'x' & 'y'.  Please use a 2-D array with a single row if you really want to specify the same RGB or RGBA value for all points.\n",
      "'c' argument looks like a single numeric RGB or RGBA sequence, which should be avoided as value-mapping will have precedence in case its length matches with 'x' & 'y'.  Please use a 2-D array with a single row if you really want to specify the same RGB or RGBA value for all points.\n",
      "'c' argument looks like a single numeric RGB or RGBA sequence, which should be avoided as value-mapping will have precedence in case its length matches with 'x' & 'y'.  Please use a 2-D array with a single row if you really want to specify the same RGB or RGBA value for all points.\n"
     ]
    },
    {
     "data": {
      "image/png": "[encoded data removed]",
      "text/plain": [
       "<Figure size 720x576 with 1 Axes>"
      ]
     },
     "metadata": {
      "needs_background": "light"
     },
     "output_type": "display_data"
    },
    {
     "data": {
      "image/png": "[encoded data removed]",
      "text/plain": [
       "<Figure size 720x576 with 1 Axes>"
      ]
     },
     "metadata": {
      "needs_background": "light"
     },
     "output_type": "display_data"
    },
    {
     "data": {
      "image/png": "[encoded data removed]",
      "text/plain": [
       "<Figure size 720x576 with 1 Axes>"
      ]
     },
     "metadata": {
      "needs_background": "light"
     },
     "output_type": "display_data"
    },
    {
     "data": {
      "image/png": "[encoded data removed]",
      "text/plain": [
       "<Figure size 720x576 with 1 Axes>"
      ]
     },
     "metadata": {
      "needs_background": "light"
     },
     "output_type": "display_data"
    }
   ],
   "source": [
    "# Visualising any outliers/variability - years 1960-2017 for all variables\n",
    "\n",
    "df_income.plot(kind='scatter', x='1960', y='2017', subplots=True, title= 'income pc from 1960-2017')\n",
    "df_export.plot(kind='scatter', x='1960', y='2017', subplots=True, title= 'exports from 1960-2017')\n",
    "df_inv.plot(kind='scatter', x='1960', y='2017', subplots=True, title= 'investment from 1960-2017')\n",
    "df_life.plot(kind='scatter', x='1960', y='2017', subplots=True, title='life expectancy from 1960-2017')\n",
    "\n",
    "# Illustrate\n",
    "plt.show()\n"
   ]
  },
  {
   "cell_type": "markdown",
   "metadata": {},
   "source": [
    "We can roughly see among these variables that there is variability, indicating among the data points that there is growth in these indicators between 1960-2017 rather than a constant (unchanged) pattern that would otherwise indicate a lack of accessbility of data for some countries/indicators.\n",
    "\n",
    "Albeit outliers remain somewhat for exports, investment and income_pc variables.\n",
    "\n",
    "Given such diagnosis and insights, it becomes easier to fix any errors to perform data analysis and communication."
   ]
  },
  {
   "cell_type": "markdown",
   "metadata": {},
   "source": [
    "### Data Cleaning - gapminder dataset"
   ]
  },
  {
   "cell_type": "markdown",
   "metadata": {
    "collapsed": true
   },
   "source": [
    "Start by renaming the column labels "
   ]
  },
  {
   "cell_type": "code",
   "execution_count": 145,
   "metadata": {},
   "outputs": [],
   "source": [
    "# Renaming country column to income per capita - 'income_pc'\n",
    "df_income.rename(columns={'country': 'income_pc'}, inplace=True)\n",
    "\n",
    "# Renaming country column to export - 'export'\n",
    "df_export.rename(columns={'country': 'export'}, inplace=True)\n",
    "\n",
    "# Renaming country column to investment - 'investment'\n",
    "df_inv.rename(columns={'country': 'investment'}, inplace=True)\n",
    "\n",
    "# Renaming country column to life expectancy - 'life_exp'\n",
    "df_life.rename(columns={'country': 'life_exp'}, inplace=True)"
   ]
  },
  {
   "cell_type": "markdown",
   "metadata": {},
   "source": [
    "Utilise a function to check and drop missing/negative values."
   ]
  },
  {
   "cell_type": "code",
   "execution_count": 146,
   "metadata": {},
   "outputs": [],
   "source": [
    "def check_null_or_valid(row_data):\n",
    "    \"\"\" Function that takes a row of data,\n",
    "    drops all missing values,\n",
    "    and checks if all remaining values are greater than or equal to 0\n",
    "    \"\"\"\n",
    "    no_na = row_data.dropna()\n",
    "    numeric = pd.to_numeric(no_na)\n",
    "    ge0 = numeric >= 0\n",
    "    return ge0"
   ]
  },
  {
   "cell_type": "code",
   "execution_count": 147,
   "metadata": {},
   "outputs": [],
   "source": [
    "# Check whether the first column is 'income_pc'\n",
    "assert df_income.columns[0] == 'income_pc'"
   ]
  },
  {
   "cell_type": "code",
   "execution_count": 148,
   "metadata": {},
   "outputs": [],
   "source": [
    "# Check whether the first column is 'export'\n",
    "assert df_export.columns[0] == 'export'"
   ]
  },
  {
   "cell_type": "code",
   "execution_count": 149,
   "metadata": {},
   "outputs": [],
   "source": [
    "# Check whether the first column is 'life exp'\n",
    "assert df_life.columns[0] == 'life_exp'"
   ]
  },
  {
   "cell_type": "code",
   "execution_count": 150,
   "metadata": {},
   "outputs": [],
   "source": [
    "# Check whether the first column is 'investment'\n",
    "assert df_inv.columns[0] == 'investment'"
   ]
  },
  {
   "cell_type": "markdown",
   "metadata": {},
   "source": [
    "Check whether the values in the rows are valid for each variable  dataframe."
   ]
  },
  {
   "cell_type": "code",
   "execution_count": 151,
   "metadata": {},
   "outputs": [],
   "source": [
    "assert df_income.iloc[:, 1:].apply(check_null_or_valid, axis=1).all().all()"
   ]
  },
  {
   "cell_type": "code",
   "execution_count": 152,
   "metadata": {},
   "outputs": [],
   "source": [
    "assert df_export.iloc[:, 1:].apply(check_null_or_valid, axis=1).all().all()"
   ]
  },
  {
   "cell_type": "code",
   "execution_count": 153,
   "metadata": {},
   "outputs": [],
   "source": [
    "assert df_life.iloc[:, 1:].apply(check_null_or_valid, axis=1).all().all()"
   ]
  },
  {
   "cell_type": "code",
   "execution_count": 154,
   "metadata": {},
   "outputs": [
    {
     "name": "stdout",
     "output_type": "stream",
     "text": [
      "needs manual cleaning\n"
     ]
    }
   ],
   "source": [
    "try:\n",
    "    assert df_inv.iloc[:, 1:].apply(check_null_or_valid, axis=1).all().all()\n",
    "except AssertionError:\n",
    "    print ('needs manual cleaning')"
   ]
  },
  {
   "cell_type": "markdown",
   "metadata": {},
   "source": [
    "Picking up an error in the investment variable signals that we have to fix this manually."
   ]
  },
  {
   "cell_type": "code",
   "execution_count": 155,
   "metadata": {},
   "outputs": [],
   "source": [
    "# Drop missing values along the rows\n",
    "df_inv.dropna(axis=0, inplace=True)"
   ]
  },
  {
   "cell_type": "code",
   "execution_count": 156,
   "metadata": {},
   "outputs": [
    {
     "data": {
      "text/plain": [
       "0"
      ]
     },
     "execution_count": 156,
     "metadata": {},
     "output_type": "execute_result"
    }
   ],
   "source": [
    "# Checking zero non-null values for investment\n",
    "df_inv.isnull().sum().sum()"
   ]
  },
  {
   "cell_type": "code",
   "execution_count": 157,
   "metadata": {},
   "outputs": [],
   "source": [
    "# Confirming df_inv has zero null values\n",
    "assert pd.notnull(df_inv.all)"
   ]
  },
  {
   "cell_type": "code",
   "execution_count": 158,
   "metadata": {},
   "outputs": [],
   "source": [
    "# Check that there is only one instance of each country\n",
    "assert df_income['income_pc'].value_counts()[0] == 1\n",
    "assert df_export['export'].value_counts()[0] == 1\n",
    "assert df_inv['investment'].value_counts()[0] == 1\n",
    "assert df_life['life_exp'].value_counts()[0] == 1"
   ]
  },
  {
   "cell_type": "markdown",
   "metadata": {},
   "source": [
    "I am going to use `pd.melt()` to convert (reshape) the data from a wide to long format, where there is one column each for year and variable observations, keeping the dependent/independent variables (country labels for now) fixed."
   ]
  },
  {
   "cell_type": "code",
   "execution_count": 159,
   "metadata": {},
   "outputs": [],
   "source": [
    "''' Reshape columns: income_pc, export, \n",
    "investment and life_exp by melting it. \n",
    "Keep reshaped columns fixed - specifying \n",
    "as an argument to the id_vars parameter '''\n",
    "\n",
    "# Melt income_pc: df1\n",
    "df1 = pd.melt(df_income, id_vars= 'income_pc')\n",
    "\n",
    "# Melt export: df2\n",
    "df2 = pd.melt(df_export, id_vars= 'export')\n",
    "\n",
    "# Melt investment: df3\n",
    "df3 = pd.melt(df_inv, id_vars= 'investment')\n",
    "\n",
    "# Melt life_exp: df4\n",
    "df4 = pd.melt(df_life, id_vars= 'life_exp')"
   ]
  },
  {
   "cell_type": "markdown",
   "metadata": {},
   "source": [
    "Quickly check how the dataframe manipulation looks like."
   ]
  },
  {
   "cell_type": "code",
   "execution_count": 160,
   "metadata": {},
   "outputs": [
    {
     "data": {
      "text/html": [
       "<div>\n",
       "<style scoped>\n",
       "    .dataframe tbody tr th:only-of-type {\n",
       "        vertical-align: middle;\n",
       "    }\n",
       "\n",
       "    .dataframe tbody tr th {\n",
       "        vertical-align: top;\n",
       "    }\n",
       "\n",
       "    .dataframe thead th {\n",
       "        text-align: right;\n",
       "    }\n",
       "</style>\n",
       "<table border=\"1\" class=\"dataframe\">\n",
       "  <thead>\n",
       "    <tr style=\"text-align: right;\">\n",
       "      <th></th>\n",
       "      <th>income_pc</th>\n",
       "      <th>variable</th>\n",
       "      <th>value</th>\n",
       "    </tr>\n",
       "  </thead>\n",
       "  <tbody>\n",
       "    <tr>\n",
       "      <th>0</th>\n",
       "      <td>Afghanistan</td>\n",
       "      <td>1800</td>\n",
       "      <td>603</td>\n",
       "    </tr>\n",
       "  </tbody>\n",
       "</table>\n",
       "</div>"
      ],
      "text/plain": [
       "     income_pc variable  value\n",
       "0  Afghanistan     1800    603"
      ]
     },
     "execution_count": 160,
     "metadata": {},
     "output_type": "execute_result"
    }
   ],
   "source": [
    "df1.head(1)"
   ]
  },
  {
   "cell_type": "code",
   "execution_count": 161,
   "metadata": {},
   "outputs": [
    {
     "data": {
      "text/html": [
       "<div>\n",
       "<style scoped>\n",
       "    .dataframe tbody tr th:only-of-type {\n",
       "        vertical-align: middle;\n",
       "    }\n",
       "\n",
       "    .dataframe tbody tr th {\n",
       "        vertical-align: top;\n",
       "    }\n",
       "\n",
       "    .dataframe thead th {\n",
       "        text-align: right;\n",
       "    }\n",
       "</style>\n",
       "<table border=\"1\" class=\"dataframe\">\n",
       "  <thead>\n",
       "    <tr style=\"text-align: right;\">\n",
       "      <th></th>\n",
       "      <th>export</th>\n",
       "      <th>variable</th>\n",
       "      <th>value</th>\n",
       "    </tr>\n",
       "  </thead>\n",
       "  <tbody>\n",
       "    <tr>\n",
       "      <th>0</th>\n",
       "      <td>Afghanistan</td>\n",
       "      <td>1960</td>\n",
       "      <td>4.13</td>\n",
       "    </tr>\n",
       "  </tbody>\n",
       "</table>\n",
       "</div>"
      ],
      "text/plain": [
       "        export variable  value\n",
       "0  Afghanistan     1960   4.13"
      ]
     },
     "execution_count": 161,
     "metadata": {},
     "output_type": "execute_result"
    }
   ],
   "source": [
    "df2.head(1)"
   ]
  },
  {
   "cell_type": "code",
   "execution_count": 162,
   "metadata": {},
   "outputs": [
    {
     "data": {
      "text/html": [
       "<div>\n",
       "<style scoped>\n",
       "    .dataframe tbody tr th:only-of-type {\n",
       "        vertical-align: middle;\n",
       "    }\n",
       "\n",
       "    .dataframe tbody tr th {\n",
       "        vertical-align: top;\n",
       "    }\n",
       "\n",
       "    .dataframe thead th {\n",
       "        text-align: right;\n",
       "    }\n",
       "</style>\n",
       "<table border=\"1\" class=\"dataframe\">\n",
       "  <thead>\n",
       "    <tr style=\"text-align: right;\">\n",
       "      <th></th>\n",
       "      <th>investment</th>\n",
       "      <th>variable</th>\n",
       "      <th>value</th>\n",
       "    </tr>\n",
       "  </thead>\n",
       "  <tbody>\n",
       "    <tr>\n",
       "      <th>0</th>\n",
       "      <td>Algeria</td>\n",
       "      <td>1960</td>\n",
       "      <td>42.2</td>\n",
       "    </tr>\n",
       "  </tbody>\n",
       "</table>\n",
       "</div>"
      ],
      "text/plain": [
       "  investment variable  value\n",
       "0    Algeria     1960   42.2"
      ]
     },
     "execution_count": 162,
     "metadata": {},
     "output_type": "execute_result"
    }
   ],
   "source": [
    "df3.head(1)"
   ]
  },
  {
   "cell_type": "code",
   "execution_count": 163,
   "metadata": {},
   "outputs": [
    {
     "data": {
      "text/html": [
       "<div>\n",
       "<style scoped>\n",
       "    .dataframe tbody tr th:only-of-type {\n",
       "        vertical-align: middle;\n",
       "    }\n",
       "\n",
       "    .dataframe tbody tr th {\n",
       "        vertical-align: top;\n",
       "    }\n",
       "\n",
       "    .dataframe thead th {\n",
       "        text-align: right;\n",
       "    }\n",
       "</style>\n",
       "<table border=\"1\" class=\"dataframe\">\n",
       "  <thead>\n",
       "    <tr style=\"text-align: right;\">\n",
       "      <th></th>\n",
       "      <th>life_exp</th>\n",
       "      <th>variable</th>\n",
       "      <th>value</th>\n",
       "    </tr>\n",
       "  </thead>\n",
       "  <tbody>\n",
       "    <tr>\n",
       "      <th>0</th>\n",
       "      <td>Afghanistan</td>\n",
       "      <td>1800</td>\n",
       "      <td>28.2</td>\n",
       "    </tr>\n",
       "  </tbody>\n",
       "</table>\n",
       "</div>"
      ],
      "text/plain": [
       "      life_exp variable  value\n",
       "0  Afghanistan     1800   28.2"
      ]
     },
     "execution_count": 163,
     "metadata": {},
     "output_type": "execute_result"
    }
   ],
   "source": [
    "df4.head(1)"
   ]
  },
  {
   "cell_type": "markdown",
   "metadata": {},
   "source": [
    "Rename the columns to its relevant/corresponding labels. "
   ]
  },
  {
   "cell_type": "code",
   "execution_count": 164,
   "metadata": {},
   "outputs": [],
   "source": [
    "# Rename the columns\n",
    "df1.columns = ['country', 'year', 'income_pc']\n",
    "df2.columns = ['country', 'year', 'export']\n",
    "df3.columns = ['country', 'year', 'investment']\n",
    "df4.columns = ['country', 'year', 'life_exp']"
   ]
  },
  {
   "cell_type": "code",
   "execution_count": 165,
   "metadata": {},
   "outputs": [
    {
     "data": {
      "text/html": [
       "<div>\n",
       "<style scoped>\n",
       "    .dataframe tbody tr th:only-of-type {\n",
       "        vertical-align: middle;\n",
       "    }\n",
       "\n",
       "    .dataframe tbody tr th {\n",
       "        vertical-align: top;\n",
       "    }\n",
       "\n",
       "    .dataframe thead th {\n",
       "        text-align: right;\n",
       "    }\n",
       "</style>\n",
       "<table border=\"1\" class=\"dataframe\">\n",
       "  <thead>\n",
       "    <tr style=\"text-align: right;\">\n",
       "      <th></th>\n",
       "      <th>country</th>\n",
       "      <th>year</th>\n",
       "      <th>income_pc</th>\n",
       "    </tr>\n",
       "  </thead>\n",
       "  <tbody>\n",
       "    <tr>\n",
       "      <th>0</th>\n",
       "      <td>Afghanistan</td>\n",
       "      <td>1800</td>\n",
       "      <td>603</td>\n",
       "    </tr>\n",
       "  </tbody>\n",
       "</table>\n",
       "</div>"
      ],
      "text/plain": [
       "       country  year  income_pc\n",
       "0  Afghanistan  1800        603"
      ]
     },
     "execution_count": 165,
     "metadata": {},
     "output_type": "execute_result"
    }
   ],
   "source": [
    "df1.head(1)"
   ]
  },
  {
   "cell_type": "code",
   "execution_count": 166,
   "metadata": {},
   "outputs": [
    {
     "data": {
      "text/html": [
       "<div>\n",
       "<style scoped>\n",
       "    .dataframe tbody tr th:only-of-type {\n",
       "        vertical-align: middle;\n",
       "    }\n",
       "\n",
       "    .dataframe tbody tr th {\n",
       "        vertical-align: top;\n",
       "    }\n",
       "\n",
       "    .dataframe thead th {\n",
       "        text-align: right;\n",
       "    }\n",
       "</style>\n",
       "<table border=\"1\" class=\"dataframe\">\n",
       "  <thead>\n",
       "    <tr style=\"text-align: right;\">\n",
       "      <th></th>\n",
       "      <th>country</th>\n",
       "      <th>year</th>\n",
       "      <th>export</th>\n",
       "    </tr>\n",
       "  </thead>\n",
       "  <tbody>\n",
       "    <tr>\n",
       "      <th>0</th>\n",
       "      <td>Afghanistan</td>\n",
       "      <td>1960</td>\n",
       "      <td>4.13</td>\n",
       "    </tr>\n",
       "  </tbody>\n",
       "</table>\n",
       "</div>"
      ],
      "text/plain": [
       "       country  year  export\n",
       "0  Afghanistan  1960    4.13"
      ]
     },
     "execution_count": 166,
     "metadata": {},
     "output_type": "execute_result"
    }
   ],
   "source": [
    "df2.head(1)"
   ]
  },
  {
   "cell_type": "code",
   "execution_count": 167,
   "metadata": {},
   "outputs": [
    {
     "data": {
      "text/html": [
       "<div>\n",
       "<style scoped>\n",
       "    .dataframe tbody tr th:only-of-type {\n",
       "        vertical-align: middle;\n",
       "    }\n",
       "\n",
       "    .dataframe tbody tr th {\n",
       "        vertical-align: top;\n",
       "    }\n",
       "\n",
       "    .dataframe thead th {\n",
       "        text-align: right;\n",
       "    }\n",
       "</style>\n",
       "<table border=\"1\" class=\"dataframe\">\n",
       "  <thead>\n",
       "    <tr style=\"text-align: right;\">\n",
       "      <th></th>\n",
       "      <th>country</th>\n",
       "      <th>year</th>\n",
       "      <th>investment</th>\n",
       "    </tr>\n",
       "  </thead>\n",
       "  <tbody>\n",
       "    <tr>\n",
       "      <th>0</th>\n",
       "      <td>Algeria</td>\n",
       "      <td>1960</td>\n",
       "      <td>42.2</td>\n",
       "    </tr>\n",
       "  </tbody>\n",
       "</table>\n",
       "</div>"
      ],
      "text/plain": [
       "   country  year  investment\n",
       "0  Algeria  1960        42.2"
      ]
     },
     "execution_count": 167,
     "metadata": {},
     "output_type": "execute_result"
    }
   ],
   "source": [
    "df3.head(1)"
   ]
  },
  {
   "cell_type": "code",
   "execution_count": 168,
   "metadata": {},
   "outputs": [
    {
     "data": {
      "text/html": [
       "<div>\n",
       "<style scoped>\n",
       "    .dataframe tbody tr th:only-of-type {\n",
       "        vertical-align: middle;\n",
       "    }\n",
       "\n",
       "    .dataframe tbody tr th {\n",
       "        vertical-align: top;\n",
       "    }\n",
       "\n",
       "    .dataframe thead th {\n",
       "        text-align: right;\n",
       "    }\n",
       "</style>\n",
       "<table border=\"1\" class=\"dataframe\">\n",
       "  <thead>\n",
       "    <tr style=\"text-align: right;\">\n",
       "      <th></th>\n",
       "      <th>country</th>\n",
       "      <th>year</th>\n",
       "      <th>life_exp</th>\n",
       "    </tr>\n",
       "  </thead>\n",
       "  <tbody>\n",
       "    <tr>\n",
       "      <th>0</th>\n",
       "      <td>Afghanistan</td>\n",
       "      <td>1800</td>\n",
       "      <td>28.2</td>\n",
       "    </tr>\n",
       "  </tbody>\n",
       "</table>\n",
       "</div>"
      ],
      "text/plain": [
       "       country  year  life_exp\n",
       "0  Afghanistan  1800      28.2"
      ]
     },
     "execution_count": 168,
     "metadata": {},
     "output_type": "execute_result"
    }
   ],
   "source": [
    "df4.head(1)"
   ]
  },
  {
   "cell_type": "markdown",
   "metadata": {},
   "source": [
    "confirm the datatypes for each melted dataframe."
   ]
  },
  {
   "cell_type": "code",
   "execution_count": 169,
   "metadata": {},
   "outputs": [
    {
     "data": {
      "text/plain": [
       "(country      object\n",
       " year         object\n",
       " income_pc     int64\n",
       " dtype: object, country     object\n",
       " year        object\n",
       " export     float64\n",
       " dtype: object, country        object\n",
       " year           object\n",
       " investment    float64\n",
       " dtype: object, country      object\n",
       " year         object\n",
       " life_exp    float64\n",
       " dtype: object)"
      ]
     },
     "execution_count": 169,
     "metadata": {},
     "output_type": "execute_result"
    }
   ],
   "source": [
    "df1.dtypes, df2.dtypes, df3.dtypes, df4.dtypes"
   ]
  },
  {
   "cell_type": "markdown",
   "metadata": {},
   "source": [
    "Now, before we merge each dataframe, we need to check that we have the necessary dtypes.\n",
    "\n",
    "The **year** column label for each of these dataframes should be in a numeric format rather than a string."
   ]
  },
  {
   "cell_type": "code",
   "execution_count": 170,
   "metadata": {},
   "outputs": [],
   "source": [
    "# Convert the year column for all dataframes to numeric\n",
    "\n",
    "df1['year'] = pd.to_numeric(df1['year'])\n",
    "df2['year'] = pd.to_numeric(df2['year'])\n",
    "df3['year'] = pd.to_numeric(df3['year'])\n",
    "df4['year'] = pd.to_numeric(df4['year'])"
   ]
  },
  {
   "cell_type": "code",
   "execution_count": 171,
   "metadata": {},
   "outputs": [],
   "source": [
    "# Check the dtypes\n",
    "\n",
    "# Test if country is of type object\n",
    "assert df1.country.dtypes == np.object\n",
    "assert df2.country.dtypes == np.object\n",
    "assert df3.country.dtypes == np.object\n",
    "assert df4.country.dtypes == np.object"
   ]
  },
  {
   "cell_type": "code",
   "execution_count": 172,
   "metadata": {},
   "outputs": [],
   "source": [
    "# Test if year is of type int64\n",
    "assert df1.year.dtypes == np.int64\n",
    "assert df2.year.dtypes == np.int64\n",
    "assert df3.year.dtypes == np.int64\n",
    "assert df4.year.dtypes == np.int64"
   ]
  },
  {
   "cell_type": "code",
   "execution_count": 173,
   "metadata": {},
   "outputs": [],
   "source": [
    "# Test variable columns for numeric types - np.int64 or np.float64\n",
    "assert df1.income_pc.dtypes == np.int64\n",
    "assert df2.export.dtypes == np.float64\n",
    "assert df3.investment.dtypes == np.float64\n",
    "assert df4.life_exp.dtypes == np.float64"
   ]
  },
  {
   "cell_type": "markdown",
   "metadata": {},
   "source": [
    "The dataframes can all be merged together via `pd.merge()`.\n",
    "\n",
    "This will typically involve - ``` left_on=['c1','c2'], right_on = ['c1','c2'])```."
   ]
  },
  {
   "cell_type": "code",
   "execution_count": 174,
   "metadata": {},
   "outputs": [
    {
     "data": {
      "text/html": [
       "<div>\n",
       "<style scoped>\n",
       "    .dataframe tbody tr th:only-of-type {\n",
       "        vertical-align: middle;\n",
       "    }\n",
       "\n",
       "    .dataframe tbody tr th {\n",
       "        vertical-align: top;\n",
       "    }\n",
       "\n",
       "    .dataframe thead th {\n",
       "        text-align: right;\n",
       "    }\n",
       "</style>\n",
       "<table border=\"1\" class=\"dataframe\">\n",
       "  <thead>\n",
       "    <tr style=\"text-align: right;\">\n",
       "      <th></th>\n",
       "      <th>country</th>\n",
       "      <th>year</th>\n",
       "      <th>income_pc</th>\n",
       "      <th>life_exp</th>\n",
       "      <th>export</th>\n",
       "      <th>investment</th>\n",
       "    </tr>\n",
       "  </thead>\n",
       "  <tbody>\n",
       "    <tr>\n",
       "      <th>0</th>\n",
       "      <td>Algeria</td>\n",
       "      <td>1960</td>\n",
       "      <td>6520</td>\n",
       "      <td>52.0</td>\n",
       "      <td>39.00</td>\n",
       "      <td>42.20</td>\n",
       "    </tr>\n",
       "    <tr>\n",
       "      <th>1</th>\n",
       "      <td>Argentina</td>\n",
       "      <td>1960</td>\n",
       "      <td>9030</td>\n",
       "      <td>64.1</td>\n",
       "      <td>7.60</td>\n",
       "      <td>23.50</td>\n",
       "    </tr>\n",
       "    <tr>\n",
       "      <th>2</th>\n",
       "      <td>Australia</td>\n",
       "      <td>1960</td>\n",
       "      <td>14300</td>\n",
       "      <td>71.3</td>\n",
       "      <td>13.00</td>\n",
       "      <td>31.60</td>\n",
       "    </tr>\n",
       "    <tr>\n",
       "      <th>3</th>\n",
       "      <td>Bangladesh</td>\n",
       "      <td>1960</td>\n",
       "      <td>1060</td>\n",
       "      <td>43.8</td>\n",
       "      <td>10.00</td>\n",
       "      <td>6.89</td>\n",
       "    </tr>\n",
       "    <tr>\n",
       "      <th>4</th>\n",
       "      <td>Benin</td>\n",
       "      <td>1960</td>\n",
       "      <td>1190</td>\n",
       "      <td>41.1</td>\n",
       "      <td>6.12</td>\n",
       "      <td>11.40</td>\n",
       "    </tr>\n",
       "  </tbody>\n",
       "</table>\n",
       "</div>"
      ],
      "text/plain": [
       "      country  year  income_pc  life_exp  export  investment\n",
       "0     Algeria  1960       6520      52.0   39.00       42.20\n",
       "1   Argentina  1960       9030      64.1    7.60       23.50\n",
       "2   Australia  1960      14300      71.3   13.00       31.60\n",
       "3  Bangladesh  1960       1060      43.8   10.00        6.89\n",
       "4       Benin  1960       1190      41.1    6.12       11.40"
      ]
     },
     "execution_count": 174,
     "metadata": {},
     "output_type": "execute_result"
    }
   ],
   "source": [
    "new_df1 = pd.merge(df1, df4, how='inner', left_on=['year','country'], right_on=['year','country'])\n",
    "new_df2 = pd.merge(df2, df3, how='inner', left_on=['year','country'], right_on=['year','country'])\n",
    "\n",
    "gapminder_df = pd.merge(new_df1, new_df2, how='inner', left_on=['year','country'], right_on=['year','country'])\n",
    "gapminder_df.head()"
   ]
  },
  {
   "cell_type": "code",
   "execution_count": 175,
   "metadata": {},
   "outputs": [
    {
     "data": {
      "text/plain": [
       "(2784, 6)"
      ]
     },
     "execution_count": 175,
     "metadata": {},
     "output_type": "execute_result"
    }
   ],
   "source": [
    "# Check the gapminder_df,shape\n",
    "gapminder_df.shape"
   ]
  },
  {
   "cell_type": "markdown",
   "metadata": {},
   "source": [
    "Last stages of the data cleaning process."
   ]
  },
  {
   "cell_type": "code",
   "execution_count": 176,
   "metadata": {},
   "outputs": [],
   "source": [
    "# Check if there are any missing data, \n",
    "# If yes drop the rows containing missing data\n",
    "def check_and_drop(df):\n",
    "    if pd.isna(df).sum().sum():\n",
    "        return df.dropna(axis=0)\n",
    "    return df"
   ]
  },
  {
   "cell_type": "code",
   "execution_count": 177,
   "metadata": {},
   "outputs": [],
   "source": [
    "gapminder = check_and_drop(gapminder_df)"
   ]
  },
  {
   "cell_type": "code",
   "execution_count": 178,
   "metadata": {},
   "outputs": [
    {
     "data": {
      "text/plain": [
       "0"
      ]
     },
     "execution_count": 178,
     "metadata": {},
     "output_type": "execute_result"
    }
   ],
   "source": [
    "# Outcome \n",
    "gapminder.isnull().sum().sum()"
   ]
  },
  {
   "cell_type": "code",
   "execution_count": 179,
   "metadata": {},
   "outputs": [],
   "source": [
    "# Overcoming ealier attempts of getting rid of negative/0 values in the investment column\n",
    "gapminder_clean = gapminder.query('investment > 0')"
   ]
  },
  {
   "cell_type": "code",
   "execution_count": 180,
   "metadata": {},
   "outputs": [],
   "source": [
    "def check_null_or_valid(row_data):\n",
    "    \"\"\" Function that takes a row of data,\n",
    "    drops all missing values,\n",
    "    and checks if all remaining values are greater than or equal to 0\n",
    "    \"\"\"\n",
    "    no_na = row_data.dropna()\n",
    "    numeric = pd.to_numeric(no_na)\n",
    "    ge0 = numeric >= 0\n",
    "    return ge0"
   ]
  },
  {
   "cell_type": "markdown",
   "metadata": {},
   "source": [
    "Apply the function again."
   ]
  },
  {
   "cell_type": "code",
   "execution_count": 181,
   "metadata": {},
   "outputs": [],
   "source": [
    "# Final check of dataset cleaning: gapminder_clean\n",
    "assert gapminder_clean.iloc[:, 1:].apply(check_null_or_valid, axis=1).all().all()"
   ]
  },
  {
   "cell_type": "code",
   "execution_count": 182,
   "metadata": {},
   "outputs": [
    {
     "data": {
      "text/plain": [
       "country        object\n",
       "year            int64\n",
       "income_pc       int64\n",
       "life_exp      float64\n",
       "export        float64\n",
       "investment    float64\n",
       "dtype: object"
      ]
     },
     "execution_count": 182,
     "metadata": {},
     "output_type": "execute_result"
    }
   ],
   "source": [
    "gapminder_clean.dtypes"
   ]
  },
  {
   "cell_type": "code",
   "execution_count": 183,
   "metadata": {},
   "outputs": [
    {
     "data": {
      "text/plain": [
       "(2760, 6)"
      ]
     },
     "execution_count": 183,
     "metadata": {},
     "output_type": "execute_result"
    }
   ],
   "source": [
    "gapminder_clean.shape"
   ]
  },
  {
   "cell_type": "markdown",
   "metadata": {},
   "source": [
    "save all these changes to one new csv file `'gapminder_edited.csv'`."
   ]
  },
  {
   "cell_type": "code",
   "execution_count": 184,
   "metadata": {},
   "outputs": [],
   "source": [
    "gapminder_clean.to_csv('gapminder_edited.csv', index=False)"
   ]
  },
  {
   "cell_type": "markdown",
   "metadata": {},
   "source": [
    "<a id='eda'></a>\n",
    "## Exploratory Data Analysis (EDA)"
   ]
  },
  {
   "cell_type": "code",
   "execution_count": 185,
   "metadata": {},
   "outputs": [
    {
     "data": {
      "text/html": [
       "<div>\n",
       "<style scoped>\n",
       "    .dataframe tbody tr th:only-of-type {\n",
       "        vertical-align: middle;\n",
       "    }\n",
       "\n",
       "    .dataframe tbody tr th {\n",
       "        vertical-align: top;\n",
       "    }\n",
       "\n",
       "    .dataframe thead th {\n",
       "        text-align: right;\n",
       "    }\n",
       "</style>\n",
       "<table border=\"1\" class=\"dataframe\">\n",
       "  <thead>\n",
       "    <tr style=\"text-align: right;\">\n",
       "      <th></th>\n",
       "      <th>country</th>\n",
       "      <th>year</th>\n",
       "      <th>income_pc</th>\n",
       "      <th>life_exp</th>\n",
       "      <th>export</th>\n",
       "      <th>investment</th>\n",
       "    </tr>\n",
       "  </thead>\n",
       "  <tbody>\n",
       "    <tr>\n",
       "      <th>0</th>\n",
       "      <td>Algeria</td>\n",
       "      <td>1960</td>\n",
       "      <td>6520</td>\n",
       "      <td>52.0</td>\n",
       "      <td>39.00</td>\n",
       "      <td>42.20</td>\n",
       "    </tr>\n",
       "    <tr>\n",
       "      <th>1</th>\n",
       "      <td>Argentina</td>\n",
       "      <td>1960</td>\n",
       "      <td>9030</td>\n",
       "      <td>64.1</td>\n",
       "      <td>7.60</td>\n",
       "      <td>23.50</td>\n",
       "    </tr>\n",
       "    <tr>\n",
       "      <th>2</th>\n",
       "      <td>Australia</td>\n",
       "      <td>1960</td>\n",
       "      <td>14300</td>\n",
       "      <td>71.3</td>\n",
       "      <td>13.00</td>\n",
       "      <td>31.60</td>\n",
       "    </tr>\n",
       "    <tr>\n",
       "      <th>3</th>\n",
       "      <td>Bangladesh</td>\n",
       "      <td>1960</td>\n",
       "      <td>1060</td>\n",
       "      <td>43.8</td>\n",
       "      <td>10.00</td>\n",
       "      <td>6.89</td>\n",
       "    </tr>\n",
       "    <tr>\n",
       "      <th>4</th>\n",
       "      <td>Benin</td>\n",
       "      <td>1960</td>\n",
       "      <td>1190</td>\n",
       "      <td>41.1</td>\n",
       "      <td>6.12</td>\n",
       "      <td>11.40</td>\n",
       "    </tr>\n",
       "  </tbody>\n",
       "</table>\n",
       "</div>"
      ],
      "text/plain": [
       "      country  year  income_pc  life_exp  export  investment\n",
       "0     Algeria  1960       6520      52.0   39.00       42.20\n",
       "1   Argentina  1960       9030      64.1    7.60       23.50\n",
       "2   Australia  1960      14300      71.3   13.00       31.60\n",
       "3  Bangladesh  1960       1060      43.8   10.00        6.89\n",
       "4       Benin  1960       1190      41.1    6.12       11.40"
      ]
     },
     "execution_count": 185,
     "metadata": {},
     "output_type": "execute_result"
    }
   ],
   "source": [
    "# Load clean dataset\n",
    "gapminder = pd.read_csv('gapminder_edited.csv')\n",
    "gapminder.head()"
   ]
  },
  {
   "cell_type": "markdown",
   "metadata": {},
   "source": [
    "Making queries to filter for selected regions via ```'country' == [name]'``` - each assigned to a corresponding dataframe."
   ]
  },
  {
   "cell_type": "code",
   "execution_count": 186,
   "metadata": {},
   "outputs": [],
   "source": [
    "gapminder_brazil = gapminder.query('country == \"Brazil\"')\n",
    "gapminder_china = gapminder.query('country == \"China\"')\n",
    "gapminder_india = gapminder.query('country == \"India\"')"
   ]
  },
  {
   "cell_type": "markdown",
   "metadata": {},
   "source": [
    "### Q1 Have certain regions of the world been growing in terms of income per capita better than others? - cases of Brazil, China and India"
   ]
  },
  {
   "cell_type": "code",
   "execution_count": 187,
   "metadata": {},
   "outputs": [
    {
     "data": {
      "text/html": [
       "<div>\n",
       "<style scoped>\n",
       "    .dataframe tbody tr th:only-of-type {\n",
       "        vertical-align: middle;\n",
       "    }\n",
       "\n",
       "    .dataframe tbody tr th {\n",
       "        vertical-align: top;\n",
       "    }\n",
       "\n",
       "    .dataframe thead th {\n",
       "        text-align: right;\n",
       "    }\n",
       "</style>\n",
       "<table border=\"1\" class=\"dataframe\">\n",
       "  <thead>\n",
       "    <tr style=\"text-align: right;\">\n",
       "      <th></th>\n",
       "      <th>income_pc</th>\n",
       "      <th>life_exp</th>\n",
       "      <th>export</th>\n",
       "      <th>investment</th>\n",
       "    </tr>\n",
       "  </thead>\n",
       "  <tbody>\n",
       "    <tr>\n",
       "      <th>count</th>\n",
       "      <td>58.000000</td>\n",
       "      <td>58.000000</td>\n",
       "      <td>58.000000</td>\n",
       "      <td>58.000000</td>\n",
       "    </tr>\n",
       "    <tr>\n",
       "      <th>mean</th>\n",
       "      <td>10126.206897</td>\n",
       "      <td>67.567241</td>\n",
       "      <td>9.596034</td>\n",
       "      <td>20.124138</td>\n",
       "    </tr>\n",
       "    <tr>\n",
       "      <th>std</th>\n",
       "      <td>3179.475201</td>\n",
       "      <td>5.482392</td>\n",
       "      <td>2.843636</td>\n",
       "      <td>2.625737</td>\n",
       "    </tr>\n",
       "    <tr>\n",
       "      <th>min</th>\n",
       "      <td>4440.000000</td>\n",
       "      <td>56.800000</td>\n",
       "      <td>3.870000</td>\n",
       "      <td>15.400000</td>\n",
       "    </tr>\n",
       "    <tr>\n",
       "      <th>25%</th>\n",
       "      <td>8430.000000</td>\n",
       "      <td>63.300000</td>\n",
       "      <td>7.152500</td>\n",
       "      <td>17.975000</td>\n",
       "    </tr>\n",
       "    <tr>\n",
       "      <th>50%</th>\n",
       "      <td>10650.000000</td>\n",
       "      <td>68.200000</td>\n",
       "      <td>9.045000</td>\n",
       "      <td>19.850000</td>\n",
       "    </tr>\n",
       "    <tr>\n",
       "      <th>75%</th>\n",
       "      <td>11575.000000</td>\n",
       "      <td>72.325000</td>\n",
       "      <td>11.575000</td>\n",
       "      <td>21.800000</td>\n",
       "    </tr>\n",
       "    <tr>\n",
       "      <th>max</th>\n",
       "      <td>15400.000000</td>\n",
       "      <td>75.500000</td>\n",
       "      <td>16.500000</td>\n",
       "      <td>26.900000</td>\n",
       "    </tr>\n",
       "  </tbody>\n",
       "</table>\n",
       "</div>"
      ],
      "text/plain": [
       "          income_pc   life_exp     export  investment\n",
       "count     58.000000  58.000000  58.000000   58.000000\n",
       "mean   10126.206897  67.567241   9.596034   20.124138\n",
       "std     3179.475201   5.482392   2.843636    2.625737\n",
       "min     4440.000000  56.800000   3.870000   15.400000\n",
       "25%     8430.000000  63.300000   7.152500   17.975000\n",
       "50%    10650.000000  68.200000   9.045000   19.850000\n",
       "75%    11575.000000  72.325000  11.575000   21.800000\n",
       "max    15400.000000  75.500000  16.500000   26.900000"
      ]
     },
     "execution_count": 187,
     "metadata": {},
     "output_type": "execute_result"
    }
   ],
   "source": [
    "# Brazil summary statistics 1960-2017\n",
    "gapminder_brazil.describe().iloc[:,1:]\n"
   ]
  },
  {
   "cell_type": "code",
   "execution_count": 188,
   "metadata": {},
   "outputs": [
    {
     "data": {
      "text/html": [
       "<div>\n",
       "<style scoped>\n",
       "    .dataframe tbody tr th:only-of-type {\n",
       "        vertical-align: middle;\n",
       "    }\n",
       "\n",
       "    .dataframe tbody tr th {\n",
       "        vertical-align: top;\n",
       "    }\n",
       "\n",
       "    .dataframe thead th {\n",
       "        text-align: right;\n",
       "    }\n",
       "</style>\n",
       "<table border=\"1\" class=\"dataframe\">\n",
       "  <thead>\n",
       "    <tr style=\"text-align: right;\">\n",
       "      <th></th>\n",
       "      <th>income_pc</th>\n",
       "      <th>life_exp</th>\n",
       "      <th>export</th>\n",
       "      <th>investment</th>\n",
       "    </tr>\n",
       "  </thead>\n",
       "  <tbody>\n",
       "    <tr>\n",
       "      <th>count</th>\n",
       "      <td>58.000000</td>\n",
       "      <td>58.000000</td>\n",
       "      <td>58.000000</td>\n",
       "      <td>58.000000</td>\n",
       "    </tr>\n",
       "    <tr>\n",
       "      <th>mean</th>\n",
       "      <td>3650.327586</td>\n",
       "      <td>65.331034</td>\n",
       "      <td>14.118276</td>\n",
       "      <td>36.413793</td>\n",
       "    </tr>\n",
       "    <tr>\n",
       "      <th>std</th>\n",
       "      <td>4061.833418</td>\n",
       "      <td>9.366143</td>\n",
       "      <td>9.889812</td>\n",
       "      <td>7.218846</td>\n",
       "    </tr>\n",
       "    <tr>\n",
       "      <th>min</th>\n",
       "      <td>560.000000</td>\n",
       "      <td>30.900000</td>\n",
       "      <td>2.490000</td>\n",
       "      <td>15.300000</td>\n",
       "    </tr>\n",
       "    <tr>\n",
       "      <th>25%</th>\n",
       "      <td>896.500000</td>\n",
       "      <td>62.850000</td>\n",
       "      <td>4.360000</td>\n",
       "      <td>33.100000</td>\n",
       "    </tr>\n",
       "    <tr>\n",
       "      <th>50%</th>\n",
       "      <td>1610.000000</td>\n",
       "      <td>66.700000</td>\n",
       "      <td>13.050000</td>\n",
       "      <td>36.750000</td>\n",
       "    </tr>\n",
       "    <tr>\n",
       "      <th>75%</th>\n",
       "      <td>4620.000000</td>\n",
       "      <td>71.150000</td>\n",
       "      <td>20.750000</td>\n",
       "      <td>40.900000</td>\n",
       "    </tr>\n",
       "    <tr>\n",
       "      <th>max</th>\n",
       "      <td>15200.000000</td>\n",
       "      <td>76.800000</td>\n",
       "      <td>36.000000</td>\n",
       "      <td>47.700000</td>\n",
       "    </tr>\n",
       "  </tbody>\n",
       "</table>\n",
       "</div>"
      ],
      "text/plain": [
       "          income_pc   life_exp     export  investment\n",
       "count     58.000000  58.000000  58.000000   58.000000\n",
       "mean    3650.327586  65.331034  14.118276   36.413793\n",
       "std     4061.833418   9.366143   9.889812    7.218846\n",
       "min      560.000000  30.900000   2.490000   15.300000\n",
       "25%      896.500000  62.850000   4.360000   33.100000\n",
       "50%     1610.000000  66.700000  13.050000   36.750000\n",
       "75%     4620.000000  71.150000  20.750000   40.900000\n",
       "max    15200.000000  76.800000  36.000000   47.700000"
      ]
     },
     "execution_count": 188,
     "metadata": {},
     "output_type": "execute_result"
    }
   ],
   "source": [
    "# China summary statistics 1960-2017\n",
    "gapminder_china.describe().iloc[:,1:]"
   ]
  },
  {
   "cell_type": "code",
   "execution_count": 189,
   "metadata": {},
   "outputs": [
    {
     "data": {
      "text/html": [
       "<div>\n",
       "<style scoped>\n",
       "    .dataframe tbody tr th:only-of-type {\n",
       "        vertical-align: middle;\n",
       "    }\n",
       "\n",
       "    .dataframe tbody tr th {\n",
       "        vertical-align: top;\n",
       "    }\n",
       "\n",
       "    .dataframe thead th {\n",
       "        text-align: right;\n",
       "    }\n",
       "</style>\n",
       "<table border=\"1\" class=\"dataframe\">\n",
       "  <thead>\n",
       "    <tr style=\"text-align: right;\">\n",
       "      <th></th>\n",
       "      <th>income_pc</th>\n",
       "      <th>life_exp</th>\n",
       "      <th>export</th>\n",
       "      <th>investment</th>\n",
       "    </tr>\n",
       "  </thead>\n",
       "  <tbody>\n",
       "    <tr>\n",
       "      <th>count</th>\n",
       "      <td>58.000000</td>\n",
       "      <td>58.000000</td>\n",
       "      <td>58.000000</td>\n",
       "      <td>58.000000</td>\n",
       "    </tr>\n",
       "    <tr>\n",
       "      <th>mean</th>\n",
       "      <td>2265.689655</td>\n",
       "      <td>57.143103</td>\n",
       "      <td>10.545517</td>\n",
       "      <td>25.577586</td>\n",
       "    </tr>\n",
       "    <tr>\n",
       "      <th>std</th>\n",
       "      <td>1474.137407</td>\n",
       "      <td>7.750837</td>\n",
       "      <td>7.006385</td>\n",
       "      <td>7.813125</td>\n",
       "    </tr>\n",
       "    <tr>\n",
       "      <th>min</th>\n",
       "      <td>1030.000000</td>\n",
       "      <td>41.500000</td>\n",
       "      <td>3.340000</td>\n",
       "      <td>14.600000</td>\n",
       "    </tr>\n",
       "    <tr>\n",
       "      <th>25%</th>\n",
       "      <td>1167.500000</td>\n",
       "      <td>51.125000</td>\n",
       "      <td>4.972500</td>\n",
       "      <td>19.325000</td>\n",
       "    </tr>\n",
       "    <tr>\n",
       "      <th>50%</th>\n",
       "      <td>1665.000000</td>\n",
       "      <td>58.350000</td>\n",
       "      <td>6.955000</td>\n",
       "      <td>24.550000</td>\n",
       "    </tr>\n",
       "    <tr>\n",
       "      <th>75%</th>\n",
       "      <td>2740.000000</td>\n",
       "      <td>63.400000</td>\n",
       "      <td>14.925000</td>\n",
       "      <td>29.850000</td>\n",
       "    </tr>\n",
       "    <tr>\n",
       "      <th>max</th>\n",
       "      <td>6480.000000</td>\n",
       "      <td>68.900000</td>\n",
       "      <td>25.400000</td>\n",
       "      <td>42.500000</td>\n",
       "    </tr>\n",
       "  </tbody>\n",
       "</table>\n",
       "</div>"
      ],
      "text/plain": [
       "         income_pc   life_exp     export  investment\n",
       "count    58.000000  58.000000  58.000000   58.000000\n",
       "mean   2265.689655  57.143103  10.545517   25.577586\n",
       "std    1474.137407   7.750837   7.006385    7.813125\n",
       "min    1030.000000  41.500000   3.340000   14.600000\n",
       "25%    1167.500000  51.125000   4.972500   19.325000\n",
       "50%    1665.000000  58.350000   6.955000   24.550000\n",
       "75%    2740.000000  63.400000  14.925000   29.850000\n",
       "max    6480.000000  68.900000  25.400000   42.500000"
      ]
     },
     "execution_count": 189,
     "metadata": {},
     "output_type": "execute_result"
    }
   ],
   "source": [
    "# India summary statistics 1960-2017\n",
    "gapminder_india.describe().iloc[:,1:]"
   ]
  },
  {
   "cell_type": "code",
   "execution_count": 190,
   "metadata": {},
   "outputs": [
    {
     "name": "stderr",
     "output_type": "stream",
     "text": [
      "/Users/ShuaibAhmed/anaconda3/lib/python3.6/site-packages/ipykernel_launcher.py:3: SettingWithCopyWarning: \n",
      "A value is trying to be set on a copy of a slice from a DataFrame.\n",
      "Try using .loc[row_indexer,col_indexer] = value instead\n",
      "\n",
      "See the caveats in the documentation: http://pandas.pydata.org/pandas-docs/stable/indexing.html#indexing-view-versus-copy\n",
      "  This is separate from the ipykernel package so we can avoid doing imports until\n",
      "/Users/ShuaibAhmed/anaconda3/lib/python3.6/site-packages/ipykernel_launcher.py:4: SettingWithCopyWarning: \n",
      "A value is trying to be set on a copy of a slice from a DataFrame.\n",
      "Try using .loc[row_indexer,col_indexer] = value instead\n",
      "\n",
      "See the caveats in the documentation: http://pandas.pydata.org/pandas-docs/stable/indexing.html#indexing-view-versus-copy\n",
      "  after removing the cwd from sys.path.\n",
      "/Users/ShuaibAhmed/anaconda3/lib/python3.6/site-packages/ipykernel_launcher.py:5: SettingWithCopyWarning: \n",
      "A value is trying to be set on a copy of a slice from a DataFrame.\n",
      "Try using .loc[row_indexer,col_indexer] = value instead\n",
      "\n",
      "See the caveats in the documentation: http://pandas.pydata.org/pandas-docs/stable/indexing.html#indexing-view-versus-copy\n",
      "  \"\"\"\n"
     ]
    }
   ],
   "source": [
    "# Using vectorised operations to compute the income_pc growth rates (percentage changes) for each country\n",
    "\n",
    "china_pc_growth = gapminder_china['income_pc_growth'] = gapminder_china.groupby('country')['income_pc'].pct_change() * 100\n",
    "india_pc_growth = gapminder_india['income_pc_growth'] = gapminder_india.groupby('country')['income_pc'].pct_change() * 100\n",
    "brazil_pc_growth = gapminder_brazil['income_pc_growth'] = gapminder_brazil.groupby('country')['income_pc'].pct_change() * 100"
   ]
  },
  {
   "cell_type": "markdown",
   "metadata": {},
   "source": [
    "> Plotting a bar chart to see who had the fastest income per capita growth rates on average between (1960-2017). "
   ]
  },
  {
   "cell_type": "code",
   "execution_count": 249,
   "metadata": {},
   "outputs": [
    {
     "data": {
      "image/png": "[encoded data removed]",
      "text/plain": [
       "<Figure size 720x576 with 1 Axes>"
      ]
     },
     "metadata": {
      "needs_background": "light"
     },
     "output_type": "display_data"
    }
   ],
   "source": [
    "growth_rates = china_pc_growth.mean(), india_pc_growth.mean(), brazil_pc_growth.mean()\n",
    "countries = ['China', 'India', 'Brazil'] # x-axis labels\n",
    "\n",
    "plt.rcParams['figure.figsize'] = 10,8 #default fig size\n",
    "plt.bar(x= countries, height= growth_rates, color=['r','b','g']) #color for each country \n",
    "plt.ylabel('income pc growth rate')\n",
    "plt.title('income pc average growth rates, (1960-2017)')\n",
    "plt.show()"
   ]
  },
  {
   "cell_type": "code",
   "execution_count": 192,
   "metadata": {},
   "outputs": [
    {
     "name": "stdout",
     "output_type": "stream",
     "text": [
      "China's income pc growth rate between 1960-2017 was 5.474051074125191\n",
      "India's income pc growth rate between 1960-2017 was 3.31820744163368\n",
      "Brazil's income pc growth rate between 1960-2017 was 2.135598672107885\n"
     ]
    }
   ],
   "source": [
    "print(\"China's income pc growth rate between 1960-2017 was {}\".format(china_pc_growth.mean()))\n",
    "print(\"India's income pc growth rate between 1960-2017 was {}\".format(india_pc_growth.mean()))\n",
    "print(\"Brazil's income pc growth rate between 1960-2017 was {}\".format(brazil_pc_growth.mean()))\n"
   ]
  },
  {
   "cell_type": "markdown",
   "metadata": {},
   "source": [
    "* China accumulated the highest income per capita growth rates between 1960-2017, at around 5.5% per year on average.\n",
    "* India and Brazil followed, incurring respectable income per capita growth rates at around 3.3% and 2.1% per year on average over the same period."
   ]
  },
  {
   "cell_type": "markdown",
   "metadata": {},
   "source": [
    "> Illustrating line plots to see the overall income per capita growth trend for each country between 1960-2017, pointing out how much each countries' income per capita grew from 1960 up till 2017."
   ]
  },
  {
   "cell_type": "code",
   "execution_count": 247,
   "metadata": {},
   "outputs": [
    {
     "data": {
      "image/png": "[encoded data removed]",
      "text/plain": [
       "<Figure size 864x576 with 1 Axes>"
      ]
     },
     "metadata": {
      "needs_background": "light"
     },
     "output_type": "display_data"
    }
   ],
   "source": [
    "gapminder_brazil.plot(x='year', y='income_pc', kind='line', legend=False, xlim=(1960,2018), ylim=(0,16000), title='Brazil', color='g')\n",
    "plt.rcParams['figure.figsize'] = 12,8\n",
    "plt.ylabel('income pc (PPP$ inflation adjusted)')\n",
    "plt.show()"
   ]
  },
  {
   "cell_type": "code",
   "execution_count": 246,
   "metadata": {},
   "outputs": [
    {
     "data": {
      "image/png": "[encoded data removed]",
      "text/plain": [
       "<Figure size 864x576 with 1 Axes>"
      ]
     },
     "metadata": {
      "needs_background": "light"
     },
     "output_type": "display_data"
    }
   ],
   "source": [
    "gapminder_china.plot(x='year', y='income_pc', kind='line', legend=False, xlim=(1960,2018), ylim=(0,16000), title='China', color='r')\n",
    "plt.rcParams['figure.figsize'] = 12,8\n",
    "plt.ylabel('income pc (PPP$ inflation adjusted)')\n",
    "plt.show()"
   ]
  },
  {
   "cell_type": "code",
   "execution_count": 245,
   "metadata": {},
   "outputs": [
    {
     "data": {
      "image/png": "[encoded data removed]",
      "text/plain": [
       "<Figure size 864x576 with 1 Axes>"
      ]
     },
     "metadata": {
      "needs_background": "light"
     },
     "output_type": "display_data"
    }
   ],
   "source": [
    "gapminder_india.plot(x='year', y='income_pc', kind='line', legend=False, xlim=(1960,2018), ylim=(0,7000), title='India', color='b')\n",
    "plt.rcParams['figure.figsize'] = 12,8\n",
    "plt.ylabel('income pc (PPP$ inflation adjusted)')\n",
    "plt.show()"
   ]
  },
  {
   "cell_type": "code",
   "execution_count": 196,
   "metadata": {},
   "outputs": [
    {
     "name": "stdout",
     "output_type": "stream",
     "text": [
      "China's income per capita was $891 in 1960, it grew to $15200 by 2017 \n",
      "India's income per capita was $1040 in 1960, it grew to $6480 by 2017 \n",
      "Brazil's income per capita was $4440 in 1960, it grew to $14200 by 2017 \n"
     ]
    }
   ],
   "source": [
    "print(\"China's income per capita was ${} in 1960, it grew to ${} by 2017 \".format(gapminder_china.head(1).iloc[0,2], gapminder_china.tail(1).iloc[0,2]))\n",
    "print(\"India's income per capita was ${} in 1960, it grew to ${} by 2017 \".format(gapminder_india.head(1).iloc[0,2], gapminder_india.tail(1).iloc[0,2]))\n",
    "print(\"Brazil's income per capita was ${} in 1960, it grew to ${} by 2017 \".format(gapminder_brazil.head(1).iloc[0,2], gapminder_brazil.tail(1).iloc[0,2]))"
   ]
  },
  {
   "cell_type": "markdown",
   "metadata": {},
   "source": [
    "- China and India grow at exponential rates, particularly after the 1990s. \n",
    "- Brazil, by contrast, incurred more periods of relative decline in their income per capita levels, particularly during the end of the 1970s/start of the 1980s, indicating an economic crisis that they became inflicted by. The mid-2010s also showed a similar trend.\n",
    "\n",
    "* In 1960, China started the poorest out of the selected countries in terms of income per capita at $891$, with Brazil being the richest in terms of income per capita at $4440$.\n",
    "* By 2017, China converged, becoming the richest out of the selected countries at an income per capita of $15200$, while Brazil slightly fell short with an income per capita of $14200$.\n",
    "* Even though India started slightly richer than China at $1040$ in 1960, its income per capita has grown to $6480$ by 2017, which is less than half of both Brazil and China's income per capita level."
   ]
  },
  {
   "cell_type": "markdown",
   "metadata": {},
   "source": [
    "> Illustrating histograms of each country to describe the distributon of income among the population."
   ]
  },
  {
   "cell_type": "code",
   "execution_count": 243,
   "metadata": {},
   "outputs": [
    {
     "data": {
      "image/png": "[encoded data removed]",
      "text/plain": [
       "<Figure size 432x576 with 1 Axes>"
      ]
     },
     "metadata": {
      "needs_background": "light"
     },
     "output_type": "display_data"
    }
   ],
   "source": [
    "gapminder_china['income_pc'].hist(color='r', alpha=0.7, edgecolor='black', bins=5)\n",
    "plt.rcParams['figure.figsize'] = 6,8\n",
    "plt.xlabel('income pc (PPP$ inflation adjusted)')\n",
    "plt.title('China')\n",
    "plt.show();"
   ]
  },
  {
   "cell_type": "markdown",
   "metadata": {},
   "source": [
    "Given the rise in income levels (especially after the 1980s-90s) in China, the distribution of income is tended towards a positive skew, where much of the population is clustered in low/middle-income groups ($1000$-$6000$). This is expected among emerging economies given the premise of a rising middle class."
   ]
  },
  {
   "cell_type": "code",
   "execution_count": 241,
   "metadata": {},
   "outputs": [
    {
     "data": {
      "image/png": "[encoded data removed]",
      "text/plain": [
       "<Figure size 432x576 with 1 Axes>"
      ]
     },
     "metadata": {
      "needs_background": "light"
     },
     "output_type": "display_data"
    }
   ],
   "source": [
    "gapminder_brazil['income_pc'].hist(color='g', alpha=0.7, edgecolor='black', bins=5)\n",
    "plt.rcParams['figure.figsize'] = 6,8\n",
    "plt.xlabel('income pc (PPP$ inflation adjusted)')\n",
    "plt.title('Brazil')\n",
    "plt.show();\n"
   ]
  },
  {
   "cell_type": "markdown",
   "metadata": {},
   "source": [
    "On the other hand, Brazil has an income distribution that reflects a visible emerging middle class (approximately negatively skewed), with much of the population being clustered in the upper-middle income groups ($9000$-$13000$), with sizable amounts in the lower-middle income ($4000$-$6500$) and upper income groups ($14000$)."
   ]
  },
  {
   "cell_type": "code",
   "execution_count": 239,
   "metadata": {},
   "outputs": [
    {
     "data": {
      "image/png": "[encoded data removed]",
      "text/plain": [
       "<Figure size 432x576 with 1 Axes>"
      ]
     },
     "metadata": {
      "needs_background": "light"
     },
     "output_type": "display_data"
    }
   ],
   "source": [
    "gapminder_india['income_pc'].hist(color='b', alpha=0.7, edgecolor='black', bins=5 )\n",
    "plt.rcParams['figure.figsize'] = 6,8\n",
    "plt.xlabel('income pc (PPP$ inflation adjusted)')\n",
    "plt.title('India')\n",
    "plt.show();"
   ]
  },
  {
   "cell_type": "markdown",
   "metadata": {},
   "source": [
    "India also follows a similar pattern to China given the rising income levels since the 1980s-90s, with the distribution of income tended towards a positive skew, where much of the population is clustered in low/middle-income groups ($1000$ - $3000$), which is evidently more lower in income terms for the lower-middle income group relative to China."
   ]
  },
  {
   "cell_type": "markdown",
   "metadata": {},
   "source": [
    "> Using box plots to disect the distribution of income further - with regards to outliers and tails."
   ]
  },
  {
   "cell_type": "code",
   "execution_count": 237,
   "metadata": {},
   "outputs": [
    {
     "data": {
      "image/png": "[encoded data removed]",
      "text/plain": [
       "<Figure size 1152x864 with 3 Axes>"
      ]
     },
     "metadata": {
      "needs_background": "light"
     },
     "output_type": "display_data"
    }
   ],
   "source": [
    "# Creating subplots - boxplots of each country to disect \n",
    "#  the distribution of income\n",
    "fig, (ax1,ax2,ax3) = plt.subplots(1,3)\n",
    "plt.rcParams['figure.figsize'] = 16,12\n",
    "\n",
    "gapminder_india['income_pc'].plot(kind='box', ax=ax1, title='India', color= 'b');\n",
    "gapminder_china['income_pc'].plot(kind='box', ax=ax2, title='China', color= 'r');\n",
    "gapminder_brazil['income_pc'].plot(kind='box', ax=ax3, title='Brazil', color = 'g');"
   ]
  },
  {
   "cell_type": "code",
   "execution_count": 201,
   "metadata": {},
   "outputs": [
    {
     "name": "stdout",
     "output_type": "stream",
     "text": [
      "India's median income per capita is 1665.0\n",
      "China's median income per capita is 1610.0\n",
      "Brazil's median income per capita is 10650.0\n"
     ]
    }
   ],
   "source": [
    "# Calculating median incomes for sample countries\n",
    "print(\"India's median income per capita is {}\".format(gapminder_india.income_pc.median()))\n",
    "print(\"China's median income per capita is {}\".format(gapminder_china.income_pc.median()))\n",
    "print(\"Brazil's median income per capita is {}\".format(gapminder_brazil.income_pc.median()))"
   ]
  },
  {
   "cell_type": "markdown",
   "metadata": {},
   "source": [
    "- Looking closely at the box plots for income per capita in China and India, we see the median incomes are similar at the $1600-$1700 mark, which is much more lower than the mean incomes in both these countries. But we have longer tails after the $75th$ percentile, given that there are outliers that pulls the mean up due to the above mentioned positive skew. This could be a coincidence despite such statistical outcomes, given the nature of emerging economies, rising incomes and growth.\n",
    "\n",
    "- By contrast, the median income is closer to the mean income for Brazil than the former two countries at $10650$, where there appear to be no outliers. Even though the tails are at similar a length, the interquartile ranges suggest there is a positive skew, with most individuals in Brazil being classed in upper-middle-income levels."
   ]
  },
  {
   "cell_type": "markdown",
   "metadata": {},
   "source": [
    "### Q2 Are there trends that can be observed between the selected metrics? - cases of Brazil, China and India"
   ]
  },
  {
   "cell_type": "markdown",
   "metadata": {},
   "source": [
    "> Creating correlation heat maps and various scatter plots to discover trends between the selected metrics. \n",
    "* dependent variable - income per capita.\n",
    "* independent variables - life expectancy, exports (% of GDP) and investment (% of GDP)."
   ]
  },
  {
   "cell_type": "code",
   "execution_count": 234,
   "metadata": {},
   "outputs": [
    {
     "data": {
      "image/png": "[encoded data removed]",
      "text/plain": [
       "<Figure size 576x576 with 2 Axes>"
      ]
     },
     "metadata": {
      "needs_background": "light"
     },
     "output_type": "display_data"
    }
   ],
   "source": [
    "# China relevant plots and trends\n",
    "\n",
    "china_corr = gapminder_china.corr().iloc[1:5,1:5]\n",
    "\n",
    "sns.heatmap(china_corr, \n",
    "            xticklabels=china_corr.columns.values,\n",
    "            yticklabels=china_corr.columns.values, annot=True)\n",
    "\n",
    "plt.rcParams['figure.figsize'] = 8,8"
   ]
  },
  {
   "cell_type": "markdown",
   "metadata": {},
   "source": [
    "###### correlation coefficients for China - between income pc and independent variables\n",
    "\n",
    "* income pc and life expectancy - 0.65\n",
    "* income pc and exports - 0.71\n",
    "* income pc and investment - 0.71"
   ]
  },
  {
   "cell_type": "code",
   "execution_count": 232,
   "metadata": {},
   "outputs": [
    {
     "data": {
      "image/png": "[encoded data removed]",
      "text/plain": [
       "<Figure size 864x576 with 1 Axes>"
      ]
     },
     "metadata": {
      "needs_background": "light"
     },
     "output_type": "display_data"
    }
   ],
   "source": [
    "# China scatter plots\n",
    "\n",
    "gapminder_china.plot(kind='scatter', y='income_pc', x='life_exp', color='r', title='China: income pc on life expectancy')\n",
    "plt.rcParams['figure.figsize'] = 12,8\n"
   ]
  },
  {
   "cell_type": "code",
   "execution_count": 231,
   "metadata": {},
   "outputs": [
    {
     "data": {
      "image/png": "[encoded data removed]",
      "text/plain": [
       "<Figure size 864x576 with 1 Axes>"
      ]
     },
     "metadata": {
      "needs_background": "light"
     },
     "output_type": "display_data"
    }
   ],
   "source": [
    "gapminder_china.plot(kind='scatter', y='income_pc', x='export', color='r', title='China: income pc on exports')\n",
    "plt.rcParams['figure.figsize'] = 12,8"
   ]
  },
  {
   "cell_type": "code",
   "execution_count": 230,
   "metadata": {},
   "outputs": [
    {
     "data": {
      "image/png": "[encoded data removed]",
      "text/plain": [
       "<Figure size 864x576 with 1 Axes>"
      ]
     },
     "metadata": {
      "needs_background": "light"
     },
     "output_type": "display_data"
    }
   ],
   "source": [
    "gapminder_china.plot(kind='scatter', y='income_pc', x='investment', color='r', title='China: income pc on investment')\n",
    "plt.rcParams['figure.figsize'] = 12,8"
   ]
  },
  {
   "cell_type": "markdown",
   "metadata": {},
   "source": [
    "- In China, there is a positive correlation between income per capita and life expectancy ($0.65$), where the scatter plot shows an exponential correlation.\n",
    "- Also there is a positive correlation between income per capita and exports/investment levels (both $0.71$), where the scatter plot shows an increasing trend, with most variability at the upper ends."
   ]
  },
  {
   "cell_type": "code",
   "execution_count": 228,
   "metadata": {},
   "outputs": [
    {
     "data": {
      "image/png": "[encoded data removed]",
      "text/plain": [
       "<Figure size 576x576 with 2 Axes>"
      ]
     },
     "metadata": {
      "needs_background": "light"
     },
     "output_type": "display_data"
    }
   ],
   "source": [
    "india_corr = gapminder_india.corr().iloc[1:5,1:5]\n",
    "\n",
    "sns.heatmap(india_corr, \n",
    "            xticklabels=india_corr.columns.values,\n",
    "            yticklabels=india_corr.columns.values, annot=True)\n",
    "plt.rcParams['figure.figsize'] = 8,8"
   ]
  },
  {
   "cell_type": "markdown",
   "metadata": {},
   "source": [
    "###### correlation coefficients for India - between income per capita and independent variables\n",
    "\n",
    "* income pc and life expectancy - 0.83\n",
    "* income pc and exports - 0.91\n",
    "* income pc and investment - 0.8"
   ]
  },
  {
   "cell_type": "code",
   "execution_count": 226,
   "metadata": {},
   "outputs": [
    {
     "data": {
      "image/png": "[encoded data removed]",
      "text/plain": [
       "<Figure size 864x576 with 1 Axes>"
      ]
     },
     "metadata": {
      "needs_background": "light"
     },
     "output_type": "display_data"
    }
   ],
   "source": [
    "# India scatter plots\n",
    "\n",
    "gapminder_india.plot(kind='scatter', y='income_pc', x='life_exp', color='b', title='India: income pc on life expectancy')\n",
    "plt.rcParams['figure.figsize'] = 12,8"
   ]
  },
  {
   "cell_type": "code",
   "execution_count": 225,
   "metadata": {},
   "outputs": [
    {
     "data": {
      "image/png": "[encoded data removed]",
      "text/plain": [
       "<Figure size 864x576 with 1 Axes>"
      ]
     },
     "metadata": {
      "needs_background": "light"
     },
     "output_type": "display_data"
    }
   ],
   "source": [
    "gapminder_india.plot(kind='scatter', y='income_pc', x='export', color='b', title='India: income pc on exports')\n",
    "plt.rcParams['figure.figsize'] = 12,8"
   ]
  },
  {
   "cell_type": "code",
   "execution_count": 224,
   "metadata": {},
   "outputs": [
    {
     "data": {
      "image/png": "[encoded data removed]",
      "text/plain": [
       "<Figure size 864x576 with 1 Axes>"
      ]
     },
     "metadata": {
      "needs_background": "light"
     },
     "output_type": "display_data"
    }
   ],
   "source": [
    "gapminder_india.plot(kind='scatter', y='income_pc', x='investment', color='b', title='India: income pc on investment')\n",
    "plt.rcParams['figure.figsize'] = 12,8"
   ]
  },
  {
   "cell_type": "markdown",
   "metadata": {},
   "source": [
    "- In India, there is a relatively strong positive correlation between income per capita and life expectancy ($0.83$), where the scatter plot shows an exponential correlation.\n",
    "- There is also a very strong positive correlation between income per capita and exports ($0.91$), where the scatter plot shows an increasing trend, with some variability at the upper ends.\n",
    "- Finally, there is a relatively strong positive correlation between income per capita and investment ($0.8$), where the scatter plots shows an increasing trend, with some variability at the middle/upper ends."
   ]
  },
  {
   "cell_type": "code",
   "execution_count": 222,
   "metadata": {},
   "outputs": [
    {
     "data": {
      "image/png": "[encoded data removed]",
      "text/plain": [
       "<Figure size 576x576 with 2 Axes>"
      ]
     },
     "metadata": {
      "needs_background": "light"
     },
     "output_type": "display_data"
    }
   ],
   "source": [
    "brazil_corr = gapminder_brazil.corr().iloc[1:5,1:5]\n",
    "\n",
    "sns.heatmap(brazil_corr, \n",
    "            xticklabels=brazil_corr.columns.values,\n",
    "            yticklabels=brazil_corr.columns.values, annot=True)\n",
    "plt.rcParams['figure.figsize'] = 8,8"
   ]
  },
  {
   "cell_type": "markdown",
   "metadata": {},
   "source": [
    "###### correlation coefficients for Brazil - between income per capita and independent variables\n",
    "\n",
    "* income pc and life expectancy - 0.97\n",
    "* income pc and exports - 0.68\n",
    "* income pc and investment - -0.11"
   ]
  },
  {
   "cell_type": "code",
   "execution_count": 220,
   "metadata": {},
   "outputs": [
    {
     "data": {
      "image/png": "[encoded data removed]",
      "text/plain": [
       "<Figure size 864x576 with 1 Axes>"
      ]
     },
     "metadata": {
      "needs_background": "light"
     },
     "output_type": "display_data"
    }
   ],
   "source": [
    "# Brazil scatter plots\n",
    "\n",
    "gapminder_brazil.plot(kind='scatter', y='income_pc', x='life_exp', color='g', title='Brazil: income pc on life expectancy')\n",
    "plt.rcParams['figure.figsize'] = 12,8"
   ]
  },
  {
   "cell_type": "code",
   "execution_count": 218,
   "metadata": {},
   "outputs": [
    {
     "data": {
      "image/png": "[encoded data removed]",
      "text/plain": [
       "<Figure size 864x576 with 1 Axes>"
      ]
     },
     "metadata": {
      "needs_background": "light"
     },
     "output_type": "display_data"
    }
   ],
   "source": [
    "gapminder_brazil.plot(kind='scatter', y='income_pc', x='export', color='g', title='Brazil: income pc on exports')\n",
    "plt.rcParams['figure.figsize'] = 12,8"
   ]
  },
  {
   "cell_type": "code",
   "execution_count": 216,
   "metadata": {},
   "outputs": [
    {
     "data": {
      "image/png": "[encoded data removed]",
      "text/plain": [
       "<Figure size 864x576 with 1 Axes>"
      ]
     },
     "metadata": {
      "needs_background": "light"
     },
     "output_type": "display_data"
    }
   ],
   "source": [
    "gapminder_brazil.plot(kind='scatter', y='income_pc', x='investment', color='g', title='Brazil: income pc on investment')\n",
    "plt.rcParams['figure.figsize'] = 12,8"
   ]
  },
  {
   "cell_type": "markdown",
   "metadata": {},
   "source": [
    "- In Brazil, there is a very strong positive correlation between income per capita and life expectancy ($0.97$), where the scatter plot shows an almost perfect linear correlation.\n",
    "- Moreover, there is a positive correlation between income per capita and exports ($0.68$), where the scatter plot shows an increasing trend, with variability in certain thresholds of the data points.\n",
    "- In contrast to China and India, there is a negative (albeit very weak) correlation between income per capita and investment ($-0.11$), where the scatter shows an approximate decreasing trend, with a lot of variability throughout the data points."
   ]
  },
  {
   "cell_type": "markdown",
   "metadata": {},
   "source": [
    "# <a id='conclusions'></a>\n",
    "## Conclusions\n",
    "\n",
    "##### Summary of findings and results:\n",
    "\n",
    "Out of sample BRIC countries, China grew at the fastest rate on average in terms of income pc (5.5%) between 1960-2017, compared to India (3.31%) and Brazil (2.1%).\n",
    "\n",
    "China and India both grew at exponential rates, especially after the 1990s. Brazil also grew rapidly in phases, but incurred periods of decline via the turn of the 1980s and mid-2010s. \n",
    "\n",
    "China started the poorest of the three countries in 1960 with an income pc of 891, while Brazil started as the richest with an income pc of 4440. \n",
    "However, China caught up to Brazil by 2017, rising to an income pc of 15200, with Brazil slightly  lower at an income pc of 14200. \n",
    "\n",
    "In terms of the distribution of income, China and India have similar median incomes at around the 1600-1700 threshold, which is drastically lower than their mean incomes, where both have a positively skewed distribution, as many fall into the lower-middle income category.\n",
    "Brazil, on the other hand, has a median income that is closer to the mean at 10650, as there are sizable amounts in both the lower-middle-income and upper-middle income category.\n",
    "\n",
    "In terms of the trends observed between the income pc and the dependent variables across the sample countries, we find the following:\n",
    "* Income pc on life expectancy - shows a positive correlation for each country, being strongest for Brazil (0.97), being relatively stronger for India (0.83) and relatively weaker for China (0.65).\n",
    "* Income pc on exports - shows a positive correlation for each country, being strongest for India (0.91) and weakest for Brazil (0.68), while being slightly higher in China (0.71).\n",
    "* Income pc on investment - only shows a positive correlation for China and India, reported to be 0.71 and 0.8, respectively. In Brazil's case, there is a negative (very weak) correlation between income pc and investment rates at -0.11.\n",
    "\n",
    "##### Limitations and implications\n",
    "\n",
    "Given such notes on trends across these sample countries in economic development, there are caveats to making firm conclusions.\n",
    "\n",
    "A *correlation* only illustrates the presence/absence of a relationship; **this does not imply causation**. The possibility of measurement errors like a relevant variable being omitted can cause bias and influence the results. This makes sense when trying judge a negative/no correlation in Brazil for income pc on investment despite there being a positive correlation for those same variables in China and India, as there is a possibility of some variable/details  missing. Hence, there needs to be statistical testing to make such conclusions, which is beyond the scope of this analysis.\n",
    "\n",
    "Only three countries were used, which is not entirely representative of indicators of global economic development across countries. An improvement could be to include other economies in other regions such as Africa and Europe.\n",
    "\n",
    "Also, a longer time frame before 1960 may be of use in determining long term trends of growth. This is perhaps only possible when picking indicators that are widely available/recorded across regions including, emerging economies. Hence, exports and investment should be replaced by other economic indicators to achieve such a result."
   ]
  }
 ],
 "metadata": {
  "kernelspec": {
   "display_name": "Python 3",
   "language": "python",
   "name": "python3"
  },
  "language_info": {
   "codemirror_mode": {
    "name": "ipython",
    "version": 3
   },
   "file_extension": ".py",
   "mimetype": "text/x-python",
   "name": "python",
   "nbconvert_exporter": "python",
   "pygments_lexer": "ipython3",
   "version": "3.6.7"
  }
 },
 "nbformat": 4,
 "nbformat_minor": 2
}
